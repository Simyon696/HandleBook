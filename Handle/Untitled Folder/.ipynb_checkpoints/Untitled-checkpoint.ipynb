{
 "cells": [
  {
   "cell_type": "code",
   "execution_count": 30,
   "id": "1f7bcfba",
   "metadata": {},
   "outputs": [],
   "source": [
    "MONEY = 5000000\n",
    "\n",
    "VC1 = 120000\n",
    "Q1 = 100\n",
    "\n",
    "VC2 = 45000\n",
    "Q2 = 40\n",
    "\n",
    "VC3 = 300000\n",
    "Q3 = 20\n",
    "\n",
    "VC4 = 180000\n",
    "Q4 = 50"
   ]
  },
  {
   "cell_type": "code",
   "execution_count": 34,
   "id": "b016d226",
   "metadata": {},
   "outputs": [],
   "source": [
    "VCS = [VC1, VC2, VC3, VC4]\n",
    "QS = [Q1, Q2, Q3, Q4]"
   ]
  },
  {
   "cell_type": "code",
   "execution_count": 60,
   "id": "accd7da1",
   "metadata": {},
   "outputs": [
    {
     "data": {
      "text/plain": [
       "645000"
      ]
     },
     "execution_count": 60,
     "metadata": {},
     "output_type": "execute_result"
    }
   ],
   "source": [
    "counter = 0\n",
    "for VC in VCS:\n",
    "    counter += VC\n",
    "counter"
   ]
  },
  {
   "cell_type": "code",
   "execution_count": 61,
   "id": "cd08a0b6",
   "metadata": {},
   "outputs": [
    {
     "data": {
      "text/plain": [
       "210"
      ]
     },
     "execution_count": 61,
     "metadata": {},
     "output_type": "execute_result"
    }
   ],
   "source": [
    "counter = 0\n",
    "for Q in QS:\n",
    "    counter += Q\n",
    "counter"
   ]
  },
  {
   "cell_type": "code",
   "execution_count": 57,
   "id": "d9708526",
   "metadata": {},
   "outputs": [
    {
     "name": "stdout",
     "output_type": "stream",
     "text": [
      "Затраты по туру 1: 4166.666666666667\n",
      "Percent: 0.024\n",
      "Multiplication: 120000.0\n",
      "\n",
      "Затраты по туру 2: 4444.444444444444\n",
      "Percent: 0.0225\n",
      "Multiplication: 112500.0\n",
      "\n",
      "Затраты по туру 3: 333.3333333333333\n",
      "Percent: 0.3\n",
      "Multiplication: 1500000.0\n",
      "\n",
      "Затраты по туру 4: 1388.888888888889\n",
      "Percent: 0.07200000000000001\n",
      "Multiplication: 360000.00000000006\n",
      "\n"
     ]
    }
   ],
   "source": [
    "counter = 0\n",
    "for VS, Q in zip(VCS, QS):\n",
    "    counter += 1\n",
    "    print(f\"Затраты по туру {counter}: {MONEY/(VS/Q)}\")\n",
    "    \n",
    "    percent = ( (VS/Q) / MONEY ) * 100\n",
    "    print(f\"Percent: {( (VS/Q) / MONEY ) * 100}\")\n",
    "    \n",
    "    print(f\"Multiplication: {MONEY * percent}\\n\")"
   ]
  },
  {
   "cell_type": "code",
   "execution_count": null,
   "id": "912a2cf3",
   "metadata": {},
   "outputs": [],
   "source": []
  },
  {
   "cell_type": "code",
   "execution_count": 67,
   "id": "19a8ab58",
   "metadata": {},
   "outputs": [
    {
     "data": {
      "text/plain": [
       "1200.0"
      ]
     },
     "execution_count": 67,
     "metadata": {},
     "output_type": "execute_result"
    }
   ],
   "source": [
    "120000/100"
   ]
  },
  {
   "cell_type": "code",
   "execution_count": 62,
   "id": "9cf2be94",
   "metadata": {},
   "outputs": [
    {
     "data": {
      "text/plain": [
       "2812.5"
      ]
     },
     "execution_count": 62,
     "metadata": {},
     "output_type": "execute_result"
    }
   ],
   "source": [
    "112500/40"
   ]
  },
  {
   "cell_type": "code",
   "execution_count": 65,
   "id": "a0dd2730",
   "metadata": {},
   "outputs": [
    {
     "data": {
      "text/plain": [
       "75000.0"
      ]
     },
     "execution_count": 65,
     "metadata": {},
     "output_type": "execute_result"
    }
   ],
   "source": [
    "1500000/20"
   ]
  },
  {
   "cell_type": "code",
   "execution_count": 66,
   "id": "6e6ec8f2",
   "metadata": {},
   "outputs": [
    {
     "data": {
      "text/plain": [
       "7200.0"
      ]
     },
     "execution_count": 66,
     "metadata": {},
     "output_type": "execute_result"
    }
   ],
   "source": [
    "360000/50"
   ]
  },
  {
   "cell_type": "code",
   "execution_count": null,
   "id": "4cc40a91",
   "metadata": {},
   "outputs": [],
   "source": []
  },
  {
   "cell_type": "code",
   "execution_count": null,
   "id": "31acfc9a",
   "metadata": {},
   "outputs": [],
   "source": []
  },
  {
   "cell_type": "code",
   "execution_count": 79,
   "id": "14515e88",
   "metadata": {},
   "outputs": [
    {
     "data": {
      "text/plain": [
       "176"
      ]
     },
     "execution_count": 79,
     "metadata": {},
     "output_type": "execute_result"
    }
   ],
   "source": [
    "22 * 8"
   ]
  },
  {
   "cell_type": "code",
   "execution_count": 82,
   "id": "95fd919c",
   "metadata": {},
   "outputs": [
    {
     "data": {
      "text/plain": [
       "138000.0"
      ]
     },
     "execution_count": 82,
     "metadata": {},
     "output_type": "execute_result"
    }
   ],
   "source": [
    "# ЗАРПЛАТА С ПРОЦЕНТАМИ\n",
    "120000 + (120000/100 * 15)"
   ]
  },
  {
   "cell_type": "code",
   "execution_count": 81,
   "id": "766b9254",
   "metadata": {},
   "outputs": [
    {
     "data": {
      "text/plain": [
       "94090.91"
      ]
     },
     "execution_count": 81,
     "metadata": {},
     "output_type": "execute_result"
    }
   ],
   "source": [
    "# ЗАРПЛАТА ПО ЧАСАМ\n",
    "round(   (138000/ 176) * 120         , 2)"
   ]
  },
  {
   "cell_type": "code",
   "execution_count": 77,
   "id": "48bf7825",
   "metadata": {},
   "outputs": [
    {
     "data": {
      "text/plain": [
       "240000.0"
      ]
     },
     "execution_count": 77,
     "metadata": {},
     "output_type": "execute_result"
    }
   ],
   "source": [
    "# ПРЕМИЯ - 10% АДМИНИСТРАТОРУ\n",
    "2400000/100 * 10"
   ]
  },
  {
   "cell_type": "code",
   "execution_count": 84,
   "id": "9c608bb4",
   "metadata": {},
   "outputs": [
    {
     "data": {
      "text/plain": [
       "334090.91"
      ]
     },
     "execution_count": 84,
     "metadata": {},
     "output_type": "execute_result"
    }
   ],
   "source": [
    "# ФИНАЛЬНАЯ ЗАРПЛАТА (ПО ЧАСАМ + ПРЕМИЯ 10%)\n",
    "round(94090.91 + 240000, 2)"
   ]
  },
  {
   "cell_type": "code",
   "execution_count": null,
   "id": "c396bf1b",
   "metadata": {},
   "outputs": [],
   "source": []
  }
 ],
 "metadata": {
  "kernelspec": {
   "display_name": "Python 3",
   "language": "python",
   "name": "python3"
  },
  "language_info": {
   "codemirror_mode": {
    "name": "ipython",
    "version": 3
   },
   "file_extension": ".py",
   "mimetype": "text/x-python",
   "name": "python",
   "nbconvert_exporter": "python",
   "pygments_lexer": "ipython3",
   "version": "3.8.11"
  }
 },
 "nbformat": 4,
 "nbformat_minor": 5
}
